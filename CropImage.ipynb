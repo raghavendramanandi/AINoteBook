{
  "nbformat": 4,
  "nbformat_minor": 0,
  "metadata": {
    "colab": {
      "name": "CropImage.ipynb",
      "version": "0.3.2",
      "provenance": [],
      "include_colab_link": true
    },
    "kernelspec": {
      "name": "python3",
      "display_name": "Python 3"
    }
  },
  "cells": [
    {
      "cell_type": "markdown",
      "metadata": {
        "id": "view-in-github",
        "colab_type": "text"
      },
      "source": [
        "<a href=\"https://colab.research.google.com/github/raghavendramanandi/AINoteBook/blob/master/CropImage.ipynb\" target=\"_parent\"><img src=\"https://colab.research.google.com/assets/colab-badge.svg\" alt=\"Open In Colab\"/></a>"
      ]
    },
    {
      "metadata": {
        "id": "GJtcsstEHBqB",
        "colab_type": "code",
        "colab": {
          "base_uri": "https://localhost:8080/",
          "height": 50
        },
        "outputId": "6ea0f057-8577-4c51-e95f-7efde6fcd195"
      },
      "cell_type": "code",
      "source": [
        "!pip install pillow"
      ],
      "execution_count": 2,
      "outputs": [
        {
          "output_type": "stream",
          "text": [
            "Requirement already satisfied: pillow in /usr/local/lib/python3.6/dist-packages (4.0.0)\n",
            "Requirement already satisfied: olefile in /usr/local/lib/python3.6/dist-packages (from pillow) (0.46)\n"
          ],
          "name": "stdout"
        }
      ]
    },
    {
      "metadata": {
        "id": "FstcAztSHHs7",
        "colab_type": "code",
        "colab": {
          "base_uri": "https://localhost:8080/",
          "height": 67
        },
        "outputId": "4c0c17a0-87bd-4819-ab05-0929a314c0c9"
      },
      "cell_type": "code",
      "source": [
        "from PIL import Image as image\n",
        "from google.colab import files\n",
        "\n",
        "# files.upload()\n",
        "!pwd\n",
        "!ls\n",
        "\n",
        "img = image.open(\"/content/Screen Shot 2018-06-28 at 4.50.55 PM.png\")\n",
        "img.show()\n",
        "img.crop((20, 20, 20, 20))\n",
        "img.show()\n",
        "img.save(\"newImage.png\")\n",
        "!ls"
      ],
      "execution_count": 7,
      "outputs": [
        {
          "output_type": "stream",
          "text": [
            "/content\n",
            " sample_data  'Screen Shot 2018-06-28 at 4.50.55 PM.png'\n",
            " newImage.png   sample_data  'Screen Shot 2018-06-28 at 4.50.55 PM.png'\n"
          ],
          "name": "stdout"
        }
      ]
    }
  ]
}