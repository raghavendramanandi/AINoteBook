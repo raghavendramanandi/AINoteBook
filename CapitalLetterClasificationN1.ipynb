{
  "nbformat": 4,
  "nbformat_minor": 0,
  "metadata": {
    "colab": {
      "name": "CapitalLetterClasificationN1.ipynb",
      "version": "0.3.2",
      "provenance": [],
      "collapsed_sections": [],
      "include_colab_link": true
    },
    "kernelspec": {
      "name": "python3",
      "display_name": "Python 3"
    },
    "accelerator": "GPU"
  },
  "cells": [
    {
      "cell_type": "markdown",
      "metadata": {
        "id": "view-in-github",
        "colab_type": "text"
      },
      "source": [
        "<a href=\"https://colab.research.google.com/github/raghavendramanandi/AINoteBook/blob/master/CapitalLetterClasificationN1.ipynb\" target=\"_parent\"><img src=\"https://colab.research.google.com/assets/colab-badge.svg\" alt=\"Open In Colab\"/></a>"
      ]
    },
    {
      "metadata": {
        "id": "h1W5cocgsqDh",
        "colab_type": "code",
        "colab": {
          "base_uri": "https://localhost:8080/",
          "height": 218
        },
        "outputId": "c691b794-4dce-4b73-a1d3-9d624116ba29"
      },
      "cell_type": "code",
      "source": [
        "# https://keras.io/\n",
        "!pip install -q keras\n",
        "!pip install mlxtend  \n",
        "import keras"
      ],
      "execution_count": 70,
      "outputs": [
        {
          "output_type": "stream",
          "text": [
            "Requirement already satisfied: mlxtend in /usr/local/lib/python3.6/dist-packages (0.14.0)\n",
            "Requirement already satisfied: pandas>=0.17.1 in /usr/local/lib/python3.6/dist-packages (from mlxtend) (0.22.0)\n",
            "Requirement already satisfied: scikit-learn>=0.18 in /usr/local/lib/python3.6/dist-packages (from mlxtend) (0.19.2)\n",
            "Requirement already satisfied: matplotlib>=1.5.1 in /usr/local/lib/python3.6/dist-packages (from mlxtend) (2.1.2)\n",
            "Requirement already satisfied: setuptools in /usr/local/lib/python3.6/dist-packages (from mlxtend) (40.6.2)\n",
            "Requirement already satisfied: numpy>=1.10.4 in /usr/local/lib/python3.6/dist-packages (from mlxtend) (1.14.6)\n",
            "Requirement already satisfied: scipy>=0.17 in /usr/local/lib/python3.6/dist-packages (from mlxtend) (1.1.0)\n",
            "Requirement already satisfied: pytz>=2011k in /usr/local/lib/python3.6/dist-packages (from pandas>=0.17.1->mlxtend) (2018.7)\n",
            "Requirement already satisfied: python-dateutil>=2 in /usr/local/lib/python3.6/dist-packages (from pandas>=0.17.1->mlxtend) (2.5.3)\n",
            "Requirement already satisfied: cycler>=0.10 in /usr/local/lib/python3.6/dist-packages (from matplotlib>=1.5.1->mlxtend) (0.10.0)\n",
            "Requirement already satisfied: pyparsing!=2.0.4,!=2.1.2,!=2.1.6,>=2.0.1 in /usr/local/lib/python3.6/dist-packages (from matplotlib>=1.5.1->mlxtend) (2.3.0)\n",
            "Requirement already satisfied: six>=1.10 in /usr/local/lib/python3.6/dist-packages (from matplotlib>=1.5.1->mlxtend) (1.11.0)\n"
          ],
          "name": "stdout"
        }
      ]
    },
    {
      "metadata": {
        "id": "-o0MEp9Esz1_",
        "colab_type": "code",
        "colab": {}
      },
      "cell_type": "code",
      "source": [
        "import numpy as np\n",
        "\n",
        "from keras.models import Sequential\n",
        "from keras.layers import Dense, Dropout, Activation, Flatten, Add\n",
        "from keras.layers import Convolution2D, MaxPooling2D\n",
        "from keras.utils import np_utils\n",
        "from keras.layers.normalization import BatchNormalization\n",
        "from google.colab import files\n",
        "\n",
        "from keras.datasets import mnist"
      ],
      "execution_count": 0,
      "outputs": []
    },
    {
      "metadata": {
        "id": "aJmX7L8E8cuG",
        "colab_type": "code",
        "colab": {
          "base_uri": "https://localhost:8080/",
          "height": 269
        },
        "outputId": "12049503-f24b-4239-d752-75be5fad028a"
      },
      "cell_type": "code",
      "source": [
        "!pwd\n",
        "!cd sample_data\n",
        "!pwd\n",
        "!ls -ltr\n",
        "# # !rm *\n",
        "\n",
        "# files.upload()\n",
        "# files.upload()\n",
        "# files.upload()\n",
        "# files.upload()\n",
        "\n",
        "!pwd\n",
        "!ls -ltr\n"
      ],
      "execution_count": 72,
      "outputs": [
        {
          "output_type": "stream",
          "text": [
            "/content\n",
            "/content\n",
            "total 111640\n",
            "drwxr-xr-x 2 root root     4096 Nov 20 18:17 sample_data\n",
            "-rw-r--r-- 1 root root    20808 Nov 25 08:38 emnist-letters-test-labels-idx1-ubyte\n",
            "-rw-r--r-- 1 root root   124808 Nov 25 08:38 emnist-letters-train-labels-idx1-ubyte\n",
            "-rw-r--r-- 1 root root 16307216 Nov 25 08:44 emnist-letters-test-images-idx3-ubyte\n",
            "-rw-r--r-- 1 root root 97843216 Nov 25 10:51 emnist-letters-train-images-idx3-ubyte\n",
            "/content\n",
            "total 111640\n",
            "drwxr-xr-x 2 root root     4096 Nov 20 18:17 sample_data\n",
            "-rw-r--r-- 1 root root    20808 Nov 25 08:38 emnist-letters-test-labels-idx1-ubyte\n",
            "-rw-r--r-- 1 root root   124808 Nov 25 08:38 emnist-letters-train-labels-idx1-ubyte\n",
            "-rw-r--r-- 1 root root 16307216 Nov 25 08:44 emnist-letters-test-images-idx3-ubyte\n",
            "-rw-r--r-- 1 root root 97843216 Nov 25 10:51 emnist-letters-train-images-idx3-ubyte\n"
          ],
          "name": "stdout"
        }
      ]
    },
    {
      "metadata": {
        "id": "9Qh67PDOs3BP",
        "colab_type": "code",
        "colab": {}
      },
      "cell_type": "code",
      "source": [
        "# (X_train, y_train), (X_test, y_test) = mnist.load_data()\n",
        "\n",
        "from mlxtend.data import loadlocal_mnist\n",
        "\n",
        "X_train, y_train = loadlocal_mnist(\n",
        "        images_path='/content/emnist-letters-train-images-idx3-ubyte', \n",
        "        labels_path='/content/emnist-letters-train-labels-idx1-ubyte')\n",
        "\n",
        "X_test, y_test = loadlocal_mnist(\n",
        "        images_path='/content/emnist-letters-test-images-idx3-ubyte', \n",
        "        labels_path='/content/emnist-letters-test-labels-idx1-ubyte')"
      ],
      "execution_count": 0,
      "outputs": []
    },
    {
      "metadata": {
        "id": "oU9iFfYVs5vP",
        "colab_type": "code",
        "colab": {
          "base_uri": "https://localhost:8080/",
          "height": 332
        },
        "outputId": "b0f980a2-dca7-4352-bc1a-30af235b4c3f"
      },
      "cell_type": "code",
      "source": [
        "print (X_train.shape)\n",
        "print (X_test.shape)\n",
        "\n",
        "print (y_train.shape)\n",
        "\n",
        "X_train = X_train.reshape(124800, 28, 28)\n",
        "X_test = X_test.reshape(20800, 28, 28)\n",
        "\n",
        "from matplotlib import pyplot as plt\n",
        "%matplotlib inline\n",
        "plt.imshow(X_train[5])"
      ],
      "execution_count": 74,
      "outputs": [
        {
          "output_type": "stream",
          "text": [
            "(124800, 784)\n",
            "(20800, 784)\n",
            "(124800,)\n"
          ],
          "name": "stdout"
        },
        {
          "output_type": "execute_result",
          "data": {
            "text/plain": [
              "<matplotlib.image.AxesImage at 0x7f1397b31400>"
            ]
          },
          "metadata": {
            "tags": []
          },
          "execution_count": 74
        },
        {
          "output_type": "display_data",
          "data": {
            "image/png": "[encoded data removed]",
            "text/plain": [
              "<matplotlib.figure.Figure at 0x7f1397c51860>"
            ]
          },
          "metadata": {
            "tags": []
          }
        }
      ]
    },
    {
      "metadata": {
        "id": "16O24vq2s89_",
        "colab_type": "code",
        "colab": {}
      },
      "cell_type": "code",
      "source": [
        "X_train = X_train.reshape(X_train.shape[0], 28, 28,1)\n",
        "X_test = X_test.reshape(X_test.shape[0], 28, 28,1)"
      ],
      "execution_count": 0,
      "outputs": []
    },
    {
      "metadata": {
        "id": "xQhYrNuCadoY",
        "colab_type": "code",
        "colab": {}
      },
      "cell_type": "code",
      "source": [
        "X_train = X_train.astype('float32')\n",
        "X_test = X_test.astype('float32')\n",
        "X_train /= 255\n",
        "X_test /= 255"
      ],
      "execution_count": 0,
      "outputs": []
    },
    {
      "metadata": {
        "id": "qzF5nzf8ahaJ",
        "colab_type": "code",
        "colab": {
          "base_uri": "https://localhost:8080/",
          "height": 34
        },
        "outputId": "c5be3687-9e6f-44e1-f229-fa7009c77eb0"
      },
      "cell_type": "code",
      "source": [
        "y_train[:10]"
      ],
      "execution_count": 77,
      "outputs": [
        {
          "output_type": "execute_result",
          "data": {
            "text/plain": [
              "array([23,  7, 16, 15, 23, 17, 13, 11, 22, 24], dtype=uint8)"
            ]
          },
          "metadata": {
            "tags": []
          },
          "execution_count": 77
        }
      ]
    },
    {
      "metadata": {
        "id": "gV1rp4kRajx3",
        "colab_type": "code",
        "colab": {}
      },
      "cell_type": "code",
      "source": [
        "# Convert 1-dimensional class arrays to 26-dimensional class matrices\n",
        "Y_train = np_utils.to_categorical(y_train, 27)\n",
        "Y_test = np_utils.to_categorical(y_test, 27)"
      ],
      "execution_count": 0,
      "outputs": []
    },
    {
      "metadata": {
        "id": "W93b6wtjal_G",
        "colab_type": "code",
        "colab": {
          "base_uri": "https://localhost:8080/",
          "height": 353
        },
        "outputId": "12a2a57c-b6d0-4643-b47a-5e565f0988c1"
      },
      "cell_type": "code",
      "source": [
        "Y_train[:10]\n"
      ],
      "execution_count": 79,
      "outputs": [
        {
          "output_type": "execute_result",
          "data": {
            "text/plain": [
              "array([[0., 0., 0., 0., 0., 0., 0., 0., 0., 0., 0., 0., 0., 0., 0., 0.,\n",
              "        0., 0., 0., 0., 0., 0., 0., 1., 0., 0., 0.],\n",
              "       [0., 0., 0., 0., 0., 0., 0., 1., 0., 0., 0., 0., 0., 0., 0., 0.,\n",
              "        0., 0., 0., 0., 0., 0., 0., 0., 0., 0., 0.],\n",
              "       [0., 0., 0., 0., 0., 0., 0., 0., 0., 0., 0., 0., 0., 0., 0., 0.,\n",
              "        1., 0., 0., 0., 0., 0., 0., 0., 0., 0., 0.],\n",
              "       [0., 0., 0., 0., 0., 0., 0., 0., 0., 0., 0., 0., 0., 0., 0., 1.,\n",
              "        0., 0., 0., 0., 0., 0., 0., 0., 0., 0., 0.],\n",
              "       [0., 0., 0., 0., 0., 0., 0., 0., 0., 0., 0., 0., 0., 0., 0., 0.,\n",
              "        0., 0., 0., 0., 0., 0., 0., 1., 0., 0., 0.],\n",
              "       [0., 0., 0., 0., 0., 0., 0., 0., 0., 0., 0., 0., 0., 0., 0., 0.,\n",
              "        0., 1., 0., 0., 0., 0., 0., 0., 0., 0., 0.],\n",
              "       [0., 0., 0., 0., 0., 0., 0., 0., 0., 0., 0., 0., 0., 1., 0., 0.,\n",
              "        0., 0., 0., 0., 0., 0., 0., 0., 0., 0., 0.],\n",
              "       [0., 0., 0., 0., 0., 0., 0., 0., 0., 0., 0., 1., 0., 0., 0., 0.,\n",
              "        0., 0., 0., 0., 0., 0., 0., 0., 0., 0., 0.],\n",
              "       [0., 0., 0., 0., 0., 0., 0., 0., 0., 0., 0., 0., 0., 0., 0., 0.,\n",
              "        0., 0., 0., 0., 0., 0., 1., 0., 0., 0., 0.],\n",
              "       [0., 0., 0., 0., 0., 0., 0., 0., 0., 0., 0., 0., 0., 0., 0., 0.,\n",
              "        0., 0., 0., 0., 0., 0., 0., 0., 1., 0., 0.]], dtype=float32)"
            ]
          },
          "metadata": {
            "tags": []
          },
          "execution_count": 79
        }
      ]
    },
    {
      "metadata": {
        "id": "B0wz52ZDaoiW",
        "colab_type": "code",
        "colab": {
          "base_uri": "https://localhost:8080/",
          "height": 171
        },
        "outputId": "0ffe33f2-eaee-4fb8-d906-638d64076260"
      },
      "cell_type": "code",
      "source": [
        "from keras.layers import Activation\n",
        "from keras.preprocessing.image import ImageDataGenerator\n",
        "\n",
        "model = Sequential()\n",
        "\n",
        "model.add(Convolution2D(32, 3, 3, activation='relu', input_shape=(28,28,1)))\n",
        "model.add(Convolution2D(16, 3, 3, activation='relu', input_shape=(26,26,1)))\n",
        "model.add(Dropout(0.2))\n",
        "# model.add(BatchNormalization())\n",
        "model.add(MaxPooling2D(pool_size=(2, 2)))\n",
        "model.add(Convolution2D(16, 3, 3, activation='relu', input_shape=(12,12,1)))\n",
        "model.add(Dropout(0.2))\n",
        "# model.add(BatchNormalization())\n",
        "model.add(Convolution2D(8, 3, 3, activation='relu', input_shape=(10,10,1)))\n",
        "model.add(Convolution2D(27, 1, activation='relu'))\n",
        "model.add(Convolution2D(27, 8))\n",
        "model.add(Flatten())\n",
        "model.add(Activation('softmax'))\n"
      ],
      "execution_count": 85,
      "outputs": [
        {
          "output_type": "stream",
          "text": [
            "/usr/local/lib/python3.6/dist-packages/ipykernel_launcher.py:6: UserWarning: Update your `Conv2D` call to the Keras 2 API: `Conv2D(32, (3, 3), activation=\"relu\", input_shape=(28, 28, 1...)`\n",
            "  \n",
            "/usr/local/lib/python3.6/dist-packages/ipykernel_launcher.py:7: UserWarning: Update your `Conv2D` call to the Keras 2 API: `Conv2D(16, (3, 3), activation=\"relu\", input_shape=(26, 26, 1...)`\n",
            "  import sys\n",
            "/usr/local/lib/python3.6/dist-packages/ipykernel_launcher.py:11: UserWarning: Update your `Conv2D` call to the Keras 2 API: `Conv2D(16, (3, 3), activation=\"relu\", input_shape=(12, 12, 1...)`\n",
            "  # This is added back by InteractiveShellApp.init_path()\n",
            "/usr/local/lib/python3.6/dist-packages/ipykernel_launcher.py:14: UserWarning: Update your `Conv2D` call to the Keras 2 API: `Conv2D(8, (3, 3), activation=\"relu\", input_shape=(10, 10, 1...)`\n",
            "  \n"
          ],
          "name": "stderr"
        }
      ]
    },
    {
      "metadata": {
        "id": "zqj0OlbLaquX",
        "colab_type": "code",
        "colab": {
          "base_uri": "https://localhost:8080/",
          "height": 504
        },
        "outputId": "2054c34a-0965-4a00-a5f3-e9fbcd9ea390"
      },
      "cell_type": "code",
      "source": [
        "model.summary()"
      ],
      "execution_count": 86,
      "outputs": [
        {
          "output_type": "stream",
          "text": [
            "_________________________________________________________________\n",
            "Layer (type)                 Output Shape              Param #   \n",
            "=================================================================\n",
            "conv2d_19 (Conv2D)           (None, 26, 26, 32)        320       \n",
            "_________________________________________________________________\n",
            "conv2d_20 (Conv2D)           (None, 24, 24, 16)        4624      \n",
            "_________________________________________________________________\n",
            "dropout_7 (Dropout)          (None, 24, 24, 16)        0         \n",
            "_________________________________________________________________\n",
            "max_pooling2d_4 (MaxPooling2 (None, 12, 12, 16)        0         \n",
            "_________________________________________________________________\n",
            "conv2d_21 (Conv2D)           (None, 10, 10, 16)        2320      \n",
            "_________________________________________________________________\n",
            "dropout_8 (Dropout)          (None, 10, 10, 16)        0         \n",
            "_________________________________________________________________\n",
            "conv2d_22 (Conv2D)           (None, 8, 8, 8)           1160      \n",
            "_________________________________________________________________\n",
            "conv2d_23 (Conv2D)           (None, 8, 8, 27)          243       \n",
            "_________________________________________________________________\n",
            "conv2d_24 (Conv2D)           (None, 1, 1, 27)          46683     \n",
            "_________________________________________________________________\n",
            "flatten_4 (Flatten)          (None, 27)                0         \n",
            "_________________________________________________________________\n",
            "activation_4 (Activation)    (None, 27)                0         \n",
            "=================================================================\n",
            "Total params: 55,350\n",
            "Trainable params: 55,350\n",
            "Non-trainable params: 0\n",
            "_________________________________________________________________\n"
          ],
          "name": "stdout"
        }
      ]
    },
    {
      "metadata": {
        "id": "GvlabpUuauni",
        "colab_type": "code",
        "colab": {}
      },
      "cell_type": "code",
      "source": [
        "model.compile(loss='categorical_crossentropy',\n",
        "             optimizer='adam',\n",
        "             metrics=['accuracy'])"
      ],
      "execution_count": 0,
      "outputs": []
    },
    {
      "metadata": {
        "id": "G8ZpRNo-awsn",
        "colab_type": "code",
        "colab": {
          "base_uri": "https://localhost:8080/",
          "height": 554
        },
        "outputId": "a1823f68-7f86-42b1-acac-709e0c157434"
      },
      "cell_type": "code",
      "source": [
        "model.compile(loss='categorical_crossentropy',\n",
        "             optimizer='adam',\n",
        "             metrics=['accuracy'])\n",
        "\n",
        "model.fit(X_train, Y_train, batch_size=25, nb_epoch=15, verbose=1)\n",
        "\n",
        "score = model.evaluate(X_test, Y_test, verbose=0)"
      ],
      "execution_count": 88,
      "outputs": [
        {
          "output_type": "stream",
          "text": [
            "/usr/local/lib/python3.6/dist-packages/ipykernel_launcher.py:5: UserWarning: The `nb_epoch` argument in `fit` has been renamed `epochs`.\n",
            "  \"\"\"\n"
          ],
          "name": "stderr"
        },
        {
          "output_type": "stream",
          "text": [
            "Epoch 1/15\n",
            "124800/124800 [==============================] - 58s 469us/step - loss: 0.5122 - acc: 0.8426\n",
            "Epoch 2/15\n",
            "124800/124800 [==============================] - 55s 438us/step - loss: 0.2990 - acc: 0.9037\n",
            "Epoch 3/15\n",
            "124800/124800 [==============================] - 54s 436us/step - loss: 0.2565 - acc: 0.9162\n",
            "Epoch 4/15\n",
            "124800/124800 [==============================] - 55s 437us/step - loss: 0.2333 - acc: 0.9229\n",
            "Epoch 5/15\n",
            "124800/124800 [==============================] - 54s 436us/step - loss: 0.2177 - acc: 0.9276\n",
            "Epoch 6/15\n",
            "124800/124800 [==============================] - 54s 436us/step - loss: 0.2069 - acc: 0.9301\n",
            "Epoch 7/15\n",
            "124800/124800 [==============================] - 55s 437us/step - loss: 0.1982 - acc: 0.9330\n",
            "Epoch 8/15\n",
            "124800/124800 [==============================] - 54s 436us/step - loss: 0.1912 - acc: 0.9345\n",
            "Epoch 9/15\n",
            "124800/124800 [==============================] - 54s 436us/step - loss: 0.1873 - acc: 0.9356\n",
            "Epoch 10/15\n",
            "124800/124800 [==============================] - 54s 436us/step - loss: 0.1820 - acc: 0.9372\n",
            "Epoch 11/15\n",
            "124800/124800 [==============================] - 54s 435us/step - loss: 0.1781 - acc: 0.9384\n",
            "Epoch 12/15\n",
            "124800/124800 [==============================] - 54s 435us/step - loss: 0.1743 - acc: 0.9395\n",
            "Epoch 13/15\n",
            "124800/124800 [==============================] - 54s 437us/step - loss: 0.1700 - acc: 0.9407\n",
            "Epoch 14/15\n",
            "124800/124800 [==============================] - 54s 435us/step - loss: 0.1673 - acc: 0.9414\n",
            "Epoch 15/15\n",
            "124800/124800 [==============================] - 54s 436us/step - loss: 0.1649 - acc: 0.9419\n"
          ],
          "name": "stdout"
        }
      ]
    },
    {
      "metadata": {
        "id": "YGPxwqiVa8lg",
        "colab_type": "code",
        "colab": {
          "base_uri": "https://localhost:8080/",
          "height": 246
        },
        "outputId": "ceec645c-ae21-41cf-8a6e-ddb5bfa9bdbe"
      },
      "cell_type": "code",
      "source": [
        "print(score)\n",
        "\n",
        "print(y_pred[:9])\n",
        "print(y_test[:9])\n",
        "\n",
        "layer_dict = dict([(layer.name, layer) for layer in model.layers])"
      ],
      "execution_count": 89,
      "outputs": [
        {
          "output_type": "stream",
          "text": [
            "[0.20893452289012762, 0.9345673076923077]\n"
          ],
          "name": "stdout"
        },
        {
          "output_type": "error",
          "ename": "NameError",
          "evalue": "ignored",
          "traceback": [
            "\u001b[0;31m---------------------------------------------------------------------------\u001b[0m",
            "\u001b[0;31mNameError\u001b[0m                                 Traceback (most recent call last)",
            "\u001b[0;32m<ipython-input-89-b8f003fc9c5c>\u001b[0m in \u001b[0;36m<module>\u001b[0;34m()\u001b[0m\n\u001b[1;32m      1\u001b[0m \u001b[0mprint\u001b[0m\u001b[0;34m(\u001b[0m\u001b[0mscore\u001b[0m\u001b[0;34m)\u001b[0m\u001b[0;34m\u001b[0m\u001b[0;34m\u001b[0m\u001b[0m\n\u001b[1;32m      2\u001b[0m \u001b[0;34m\u001b[0m\u001b[0m\n\u001b[0;32m----> 3\u001b[0;31m \u001b[0mprint\u001b[0m\u001b[0;34m(\u001b[0m\u001b[0my_pred\u001b[0m\u001b[0;34m[\u001b[0m\u001b[0;34m:\u001b[0m\u001b[0;36m9\u001b[0m\u001b[0;34m]\u001b[0m\u001b[0;34m)\u001b[0m\u001b[0;34m\u001b[0m\u001b[0;34m\u001b[0m\u001b[0m\n\u001b[0m\u001b[1;32m      4\u001b[0m \u001b[0mprint\u001b[0m\u001b[0;34m(\u001b[0m\u001b[0my_test\u001b[0m\u001b[0;34m[\u001b[0m\u001b[0;34m:\u001b[0m\u001b[0;36m9\u001b[0m\u001b[0;34m]\u001b[0m\u001b[0;34m)\u001b[0m\u001b[0;34m\u001b[0m\u001b[0;34m\u001b[0m\u001b[0m\n\u001b[1;32m      5\u001b[0m \u001b[0;34m\u001b[0m\u001b[0m\n",
            "\u001b[0;31mNameError\u001b[0m: name 'y_pred' is not defined"
          ]
        }
      ]
    },
    {
      "metadata": {
        "id": "p_jUnOq_bDV_",
        "colab_type": "code",
        "colab": {
          "base_uri": "https://localhost:8080/",
          "height": 67
        },
        "outputId": "933c707a-e977-4d76-ead5-e400b900a97d"
      },
      "cell_type": "code",
      "source": [
        "model.save(\"CapitalLetterClasificationN1-1.h5\")\n",
        "\n",
        "!ls"
      ],
      "execution_count": 90,
      "outputs": [
        {
          "output_type": "stream",
          "text": [
            "CapitalLetterClasificationN1-1.h5      emnist-letters-train-images-idx3-ubyte\n",
            "emnist-letters-test-images-idx3-ubyte  emnist-letters-train-labels-idx1-ubyte\n",
            "emnist-letters-test-labels-idx1-ubyte  sample_data\n"
          ],
          "name": "stdout"
        }
      ]
    }
  ]
}